{
 "cells": [
  {
   "cell_type": "code",
   "execution_count": 30,
   "id": "21f98963",
   "metadata": {},
   "outputs": [],
   "source": [
    "import pandas as pd\n",
    "import numpy as np\n",
    "import plotly.express as px "
   ]
  },
  {
   "cell_type": "code",
   "execution_count": 31,
   "id": "af2f5a49",
   "metadata": {},
   "outputs": [],
   "source": [
    "df = pd.read_csv(r'/Users/arij/Desktop/PROJECT/Projectdataset.csv',encoding='unicode_escape')"
   ]
  },
  {
   "cell_type": "code",
   "execution_count": 32,
   "id": "a48b3eed",
   "metadata": {},
   "outputs": [
    {
     "name": "stdout",
     "output_type": "stream",
     "text": [
      "kk\n"
     ]
    }
   ],
   "source": [
    "print('kk')"
   ]
  },
  {
   "cell_type": "code",
   "execution_count": 33,
   "id": "83be89ec",
   "metadata": {},
   "outputs": [
    {
     "name": "stdout",
     "output_type": "stream",
     "text": [
      "InvoiceNo 0\n",
      "StockCode 0\n",
      "Description 1454\n",
      "Quantity 0\n",
      "InvoiceDate 0\n",
      "UnitPrice 0\n",
      "CustomerID 135080\n",
      "Country 0\n"
     ]
    }
   ],
   "source": [
    "for col in df.columns:\n",
    "    print(col,df[col].isna().sum())"
   ]
  },
  {
   "cell_type": "code",
   "execution_count": 34,
   "id": "fbb00be9",
   "metadata": {},
   "outputs": [
    {
     "data": {
      "text/html": [
       "<div>\n",
       "<style scoped>\n",
       "    .dataframe tbody tr th:only-of-type {\n",
       "        vertical-align: middle;\n",
       "    }\n",
       "\n",
       "    .dataframe tbody tr th {\n",
       "        vertical-align: top;\n",
       "    }\n",
       "\n",
       "    .dataframe thead th {\n",
       "        text-align: right;\n",
       "    }\n",
       "</style>\n",
       "<table border=\"1\" class=\"dataframe\">\n",
       "  <thead>\n",
       "    <tr style=\"text-align: right;\">\n",
       "      <th></th>\n",
       "      <th>InvoiceNo</th>\n",
       "      <th>StockCode</th>\n",
       "      <th>Description</th>\n",
       "      <th>Quantity</th>\n",
       "      <th>InvoiceDate</th>\n",
       "      <th>UnitPrice</th>\n",
       "      <th>CustomerID</th>\n",
       "      <th>Country</th>\n",
       "    </tr>\n",
       "  </thead>\n",
       "  <tbody>\n",
       "    <tr>\n",
       "      <th>0</th>\n",
       "      <td>536365</td>\n",
       "      <td>85123A</td>\n",
       "      <td>WHITE HANGING HEART T-LIGHT HOLDER</td>\n",
       "      <td>6</td>\n",
       "      <td>12/1/2010 8:26</td>\n",
       "      <td>2.55</td>\n",
       "      <td>17850.0</td>\n",
       "      <td>United Kingdom</td>\n",
       "    </tr>\n",
       "    <tr>\n",
       "      <th>1</th>\n",
       "      <td>536365</td>\n",
       "      <td>71053</td>\n",
       "      <td>WHITE METAL LANTERN</td>\n",
       "      <td>6</td>\n",
       "      <td>12/1/2010 8:26</td>\n",
       "      <td>3.39</td>\n",
       "      <td>17850.0</td>\n",
       "      <td>United Kingdom</td>\n",
       "    </tr>\n",
       "    <tr>\n",
       "      <th>2</th>\n",
       "      <td>536365</td>\n",
       "      <td>84406B</td>\n",
       "      <td>CREAM CUPID HEARTS COAT HANGER</td>\n",
       "      <td>8</td>\n",
       "      <td>12/1/2010 8:26</td>\n",
       "      <td>2.75</td>\n",
       "      <td>17850.0</td>\n",
       "      <td>United Kingdom</td>\n",
       "    </tr>\n",
       "    <tr>\n",
       "      <th>3</th>\n",
       "      <td>536365</td>\n",
       "      <td>84029G</td>\n",
       "      <td>KNITTED UNION FLAG HOT WATER BOTTLE</td>\n",
       "      <td>6</td>\n",
       "      <td>12/1/2010 8:26</td>\n",
       "      <td>3.39</td>\n",
       "      <td>17850.0</td>\n",
       "      <td>United Kingdom</td>\n",
       "    </tr>\n",
       "    <tr>\n",
       "      <th>4</th>\n",
       "      <td>536365</td>\n",
       "      <td>84029E</td>\n",
       "      <td>RED WOOLLY HOTTIE WHITE HEART.</td>\n",
       "      <td>6</td>\n",
       "      <td>12/1/2010 8:26</td>\n",
       "      <td>3.39</td>\n",
       "      <td>17850.0</td>\n",
       "      <td>United Kingdom</td>\n",
       "    </tr>\n",
       "    <tr>\n",
       "      <th>...</th>\n",
       "      <td>...</td>\n",
       "      <td>...</td>\n",
       "      <td>...</td>\n",
       "      <td>...</td>\n",
       "      <td>...</td>\n",
       "      <td>...</td>\n",
       "      <td>...</td>\n",
       "      <td>...</td>\n",
       "    </tr>\n",
       "    <tr>\n",
       "      <th>541904</th>\n",
       "      <td>581587</td>\n",
       "      <td>22613</td>\n",
       "      <td>PACK OF 20 SPACEBOY NAPKINS</td>\n",
       "      <td>12</td>\n",
       "      <td>12/9/2011 12:50</td>\n",
       "      <td>0.85</td>\n",
       "      <td>12680.0</td>\n",
       "      <td>France</td>\n",
       "    </tr>\n",
       "    <tr>\n",
       "      <th>541905</th>\n",
       "      <td>581587</td>\n",
       "      <td>22899</td>\n",
       "      <td>CHILDREN'S APRON DOLLY GIRL</td>\n",
       "      <td>6</td>\n",
       "      <td>12/9/2011 12:50</td>\n",
       "      <td>2.10</td>\n",
       "      <td>12680.0</td>\n",
       "      <td>France</td>\n",
       "    </tr>\n",
       "    <tr>\n",
       "      <th>541906</th>\n",
       "      <td>581587</td>\n",
       "      <td>23254</td>\n",
       "      <td>CHILDRENS CUTLERY DOLLY GIRL</td>\n",
       "      <td>4</td>\n",
       "      <td>12/9/2011 12:50</td>\n",
       "      <td>4.15</td>\n",
       "      <td>12680.0</td>\n",
       "      <td>France</td>\n",
       "    </tr>\n",
       "    <tr>\n",
       "      <th>541907</th>\n",
       "      <td>581587</td>\n",
       "      <td>23255</td>\n",
       "      <td>CHILDRENS CUTLERY CIRCUS PARADE</td>\n",
       "      <td>4</td>\n",
       "      <td>12/9/2011 12:50</td>\n",
       "      <td>4.15</td>\n",
       "      <td>12680.0</td>\n",
       "      <td>France</td>\n",
       "    </tr>\n",
       "    <tr>\n",
       "      <th>541908</th>\n",
       "      <td>581587</td>\n",
       "      <td>22138</td>\n",
       "      <td>BAKING SET 9 PIECE RETROSPOT</td>\n",
       "      <td>3</td>\n",
       "      <td>12/9/2011 12:50</td>\n",
       "      <td>4.95</td>\n",
       "      <td>12680.0</td>\n",
       "      <td>France</td>\n",
       "    </tr>\n",
       "  </tbody>\n",
       "</table>\n",
       "<p>541909 rows × 8 columns</p>\n",
       "</div>"
      ],
      "text/plain": [
       "       InvoiceNo StockCode                          Description  Quantity  \\\n",
       "0         536365    85123A   WHITE HANGING HEART T-LIGHT HOLDER         6   \n",
       "1         536365     71053                  WHITE METAL LANTERN         6   \n",
       "2         536365    84406B       CREAM CUPID HEARTS COAT HANGER         8   \n",
       "3         536365    84029G  KNITTED UNION FLAG HOT WATER BOTTLE         6   \n",
       "4         536365    84029E       RED WOOLLY HOTTIE WHITE HEART.         6   \n",
       "...          ...       ...                                  ...       ...   \n",
       "541904    581587     22613          PACK OF 20 SPACEBOY NAPKINS        12   \n",
       "541905    581587     22899         CHILDREN'S APRON DOLLY GIRL          6   \n",
       "541906    581587     23254        CHILDRENS CUTLERY DOLLY GIRL          4   \n",
       "541907    581587     23255      CHILDRENS CUTLERY CIRCUS PARADE         4   \n",
       "541908    581587     22138        BAKING SET 9 PIECE RETROSPOT          3   \n",
       "\n",
       "            InvoiceDate  UnitPrice  CustomerID         Country  \n",
       "0        12/1/2010 8:26       2.55     17850.0  United Kingdom  \n",
       "1        12/1/2010 8:26       3.39     17850.0  United Kingdom  \n",
       "2        12/1/2010 8:26       2.75     17850.0  United Kingdom  \n",
       "3        12/1/2010 8:26       3.39     17850.0  United Kingdom  \n",
       "4        12/1/2010 8:26       3.39     17850.0  United Kingdom  \n",
       "...                 ...        ...         ...             ...  \n",
       "541904  12/9/2011 12:50       0.85     12680.0          France  \n",
       "541905  12/9/2011 12:50       2.10     12680.0          France  \n",
       "541906  12/9/2011 12:50       4.15     12680.0          France  \n",
       "541907  12/9/2011 12:50       4.15     12680.0          France  \n",
       "541908  12/9/2011 12:50       4.95     12680.0          France  \n",
       "\n",
       "[541909 rows x 8 columns]"
      ]
     },
     "execution_count": 34,
     "metadata": {},
     "output_type": "execute_result"
    }
   ],
   "source": [
    "df"
   ]
  },
  {
   "cell_type": "code",
   "execution_count": 35,
   "id": "8d517147",
   "metadata": {},
   "outputs": [
    {
     "data": {
      "text/plain": [
       "Index(['InvoiceNo', 'StockCode', 'Description', 'Quantity', 'InvoiceDate',\n",
       "       'UnitPrice', 'CustomerID', 'Country'],\n",
       "      dtype='object')"
      ]
     },
     "execution_count": 35,
     "metadata": {},
     "output_type": "execute_result"
    }
   ],
   "source": [
    "df.columns"
   ]
  },
  {
   "cell_type": "code",
   "execution_count": 36,
   "id": "4f5f71e0",
   "metadata": {},
   "outputs": [
    {
     "data": {
      "text/plain": [
       "0          12/1/2010 8:26\n",
       "1          12/1/2010 8:26\n",
       "2          12/1/2010 8:26\n",
       "3          12/1/2010 8:26\n",
       "4          12/1/2010 8:26\n",
       "               ...       \n",
       "541904    12/9/2011 12:50\n",
       "541905    12/9/2011 12:50\n",
       "541906    12/9/2011 12:50\n",
       "541907    12/9/2011 12:50\n",
       "541908    12/9/2011 12:50\n",
       "Name: InvoiceDate, Length: 541909, dtype: object"
      ]
     },
     "execution_count": 36,
     "metadata": {},
     "output_type": "execute_result"
    }
   ],
   "source": [
    "df.InvoiceDate"
   ]
  },
  {
   "cell_type": "code",
   "execution_count": 37,
   "id": "1cad7cb3",
   "metadata": {},
   "outputs": [],
   "source": [
    "df['InvoiceDate'] = pd.to_datetime(df['InvoiceDate'])\n",
    "\n",
    "# Extract date features\n",
    "df['year'] = df['InvoiceDate'].dt.year\n",
    "df['month'] = df['InvoiceDate'].dt.month\n",
    "df['day'] = df['InvoiceDate'].dt.day\n",
    "df['hour'] = df['InvoiceDate'].dt.hour\n",
    "df['minute'] = df['InvoiceDate'].dt.minute\n",
    "df['day_of_week'] = df['InvoiceDate'].dt.dayofweek  # Monday=0, Sunday=6\n"
   ]
  },
  {
   "cell_type": "code",
   "execution_count": 38,
   "id": "d0b3427e",
   "metadata": {},
   "outputs": [
    {
     "data": {
      "text/html": [
       "<div>\n",
       "<style scoped>\n",
       "    .dataframe tbody tr th:only-of-type {\n",
       "        vertical-align: middle;\n",
       "    }\n",
       "\n",
       "    .dataframe tbody tr th {\n",
       "        vertical-align: top;\n",
       "    }\n",
       "\n",
       "    .dataframe thead th {\n",
       "        text-align: right;\n",
       "    }\n",
       "</style>\n",
       "<table border=\"1\" class=\"dataframe\">\n",
       "  <thead>\n",
       "    <tr style=\"text-align: right;\">\n",
       "      <th></th>\n",
       "      <th>InvoiceNo</th>\n",
       "      <th>StockCode</th>\n",
       "      <th>Description</th>\n",
       "      <th>Quantity</th>\n",
       "      <th>InvoiceDate</th>\n",
       "      <th>UnitPrice</th>\n",
       "      <th>CustomerID</th>\n",
       "      <th>Country</th>\n",
       "      <th>year</th>\n",
       "      <th>month</th>\n",
       "      <th>day</th>\n",
       "      <th>hour</th>\n",
       "      <th>minute</th>\n",
       "      <th>day_of_week</th>\n",
       "    </tr>\n",
       "  </thead>\n",
       "  <tbody>\n",
       "    <tr>\n",
       "      <th>0</th>\n",
       "      <td>536365</td>\n",
       "      <td>85123A</td>\n",
       "      <td>WHITE HANGING HEART T-LIGHT HOLDER</td>\n",
       "      <td>6</td>\n",
       "      <td>2010-12-01 08:26:00</td>\n",
       "      <td>2.55</td>\n",
       "      <td>17850.0</td>\n",
       "      <td>United Kingdom</td>\n",
       "      <td>2010</td>\n",
       "      <td>12</td>\n",
       "      <td>1</td>\n",
       "      <td>8</td>\n",
       "      <td>26</td>\n",
       "      <td>2</td>\n",
       "    </tr>\n",
       "    <tr>\n",
       "      <th>1</th>\n",
       "      <td>536365</td>\n",
       "      <td>71053</td>\n",
       "      <td>WHITE METAL LANTERN</td>\n",
       "      <td>6</td>\n",
       "      <td>2010-12-01 08:26:00</td>\n",
       "      <td>3.39</td>\n",
       "      <td>17850.0</td>\n",
       "      <td>United Kingdom</td>\n",
       "      <td>2010</td>\n",
       "      <td>12</td>\n",
       "      <td>1</td>\n",
       "      <td>8</td>\n",
       "      <td>26</td>\n",
       "      <td>2</td>\n",
       "    </tr>\n",
       "    <tr>\n",
       "      <th>2</th>\n",
       "      <td>536365</td>\n",
       "      <td>84406B</td>\n",
       "      <td>CREAM CUPID HEARTS COAT HANGER</td>\n",
       "      <td>8</td>\n",
       "      <td>2010-12-01 08:26:00</td>\n",
       "      <td>2.75</td>\n",
       "      <td>17850.0</td>\n",
       "      <td>United Kingdom</td>\n",
       "      <td>2010</td>\n",
       "      <td>12</td>\n",
       "      <td>1</td>\n",
       "      <td>8</td>\n",
       "      <td>26</td>\n",
       "      <td>2</td>\n",
       "    </tr>\n",
       "    <tr>\n",
       "      <th>3</th>\n",
       "      <td>536365</td>\n",
       "      <td>84029G</td>\n",
       "      <td>KNITTED UNION FLAG HOT WATER BOTTLE</td>\n",
       "      <td>6</td>\n",
       "      <td>2010-12-01 08:26:00</td>\n",
       "      <td>3.39</td>\n",
       "      <td>17850.0</td>\n",
       "      <td>United Kingdom</td>\n",
       "      <td>2010</td>\n",
       "      <td>12</td>\n",
       "      <td>1</td>\n",
       "      <td>8</td>\n",
       "      <td>26</td>\n",
       "      <td>2</td>\n",
       "    </tr>\n",
       "    <tr>\n",
       "      <th>4</th>\n",
       "      <td>536365</td>\n",
       "      <td>84029E</td>\n",
       "      <td>RED WOOLLY HOTTIE WHITE HEART.</td>\n",
       "      <td>6</td>\n",
       "      <td>2010-12-01 08:26:00</td>\n",
       "      <td>3.39</td>\n",
       "      <td>17850.0</td>\n",
       "      <td>United Kingdom</td>\n",
       "      <td>2010</td>\n",
       "      <td>12</td>\n",
       "      <td>1</td>\n",
       "      <td>8</td>\n",
       "      <td>26</td>\n",
       "      <td>2</td>\n",
       "    </tr>\n",
       "    <tr>\n",
       "      <th>...</th>\n",
       "      <td>...</td>\n",
       "      <td>...</td>\n",
       "      <td>...</td>\n",
       "      <td>...</td>\n",
       "      <td>...</td>\n",
       "      <td>...</td>\n",
       "      <td>...</td>\n",
       "      <td>...</td>\n",
       "      <td>...</td>\n",
       "      <td>...</td>\n",
       "      <td>...</td>\n",
       "      <td>...</td>\n",
       "      <td>...</td>\n",
       "      <td>...</td>\n",
       "    </tr>\n",
       "    <tr>\n",
       "      <th>541904</th>\n",
       "      <td>581587</td>\n",
       "      <td>22613</td>\n",
       "      <td>PACK OF 20 SPACEBOY NAPKINS</td>\n",
       "      <td>12</td>\n",
       "      <td>2011-12-09 12:50:00</td>\n",
       "      <td>0.85</td>\n",
       "      <td>12680.0</td>\n",
       "      <td>France</td>\n",
       "      <td>2011</td>\n",
       "      <td>12</td>\n",
       "      <td>9</td>\n",
       "      <td>12</td>\n",
       "      <td>50</td>\n",
       "      <td>4</td>\n",
       "    </tr>\n",
       "    <tr>\n",
       "      <th>541905</th>\n",
       "      <td>581587</td>\n",
       "      <td>22899</td>\n",
       "      <td>CHILDREN'S APRON DOLLY GIRL</td>\n",
       "      <td>6</td>\n",
       "      <td>2011-12-09 12:50:00</td>\n",
       "      <td>2.10</td>\n",
       "      <td>12680.0</td>\n",
       "      <td>France</td>\n",
       "      <td>2011</td>\n",
       "      <td>12</td>\n",
       "      <td>9</td>\n",
       "      <td>12</td>\n",
       "      <td>50</td>\n",
       "      <td>4</td>\n",
       "    </tr>\n",
       "    <tr>\n",
       "      <th>541906</th>\n",
       "      <td>581587</td>\n",
       "      <td>23254</td>\n",
       "      <td>CHILDRENS CUTLERY DOLLY GIRL</td>\n",
       "      <td>4</td>\n",
       "      <td>2011-12-09 12:50:00</td>\n",
       "      <td>4.15</td>\n",
       "      <td>12680.0</td>\n",
       "      <td>France</td>\n",
       "      <td>2011</td>\n",
       "      <td>12</td>\n",
       "      <td>9</td>\n",
       "      <td>12</td>\n",
       "      <td>50</td>\n",
       "      <td>4</td>\n",
       "    </tr>\n",
       "    <tr>\n",
       "      <th>541907</th>\n",
       "      <td>581587</td>\n",
       "      <td>23255</td>\n",
       "      <td>CHILDRENS CUTLERY CIRCUS PARADE</td>\n",
       "      <td>4</td>\n",
       "      <td>2011-12-09 12:50:00</td>\n",
       "      <td>4.15</td>\n",
       "      <td>12680.0</td>\n",
       "      <td>France</td>\n",
       "      <td>2011</td>\n",
       "      <td>12</td>\n",
       "      <td>9</td>\n",
       "      <td>12</td>\n",
       "      <td>50</td>\n",
       "      <td>4</td>\n",
       "    </tr>\n",
       "    <tr>\n",
       "      <th>541908</th>\n",
       "      <td>581587</td>\n",
       "      <td>22138</td>\n",
       "      <td>BAKING SET 9 PIECE RETROSPOT</td>\n",
       "      <td>3</td>\n",
       "      <td>2011-12-09 12:50:00</td>\n",
       "      <td>4.95</td>\n",
       "      <td>12680.0</td>\n",
       "      <td>France</td>\n",
       "      <td>2011</td>\n",
       "      <td>12</td>\n",
       "      <td>9</td>\n",
       "      <td>12</td>\n",
       "      <td>50</td>\n",
       "      <td>4</td>\n",
       "    </tr>\n",
       "  </tbody>\n",
       "</table>\n",
       "<p>541909 rows × 14 columns</p>\n",
       "</div>"
      ],
      "text/plain": [
       "       InvoiceNo StockCode                          Description  Quantity  \\\n",
       "0         536365    85123A   WHITE HANGING HEART T-LIGHT HOLDER         6   \n",
       "1         536365     71053                  WHITE METAL LANTERN         6   \n",
       "2         536365    84406B       CREAM CUPID HEARTS COAT HANGER         8   \n",
       "3         536365    84029G  KNITTED UNION FLAG HOT WATER BOTTLE         6   \n",
       "4         536365    84029E       RED WOOLLY HOTTIE WHITE HEART.         6   \n",
       "...          ...       ...                                  ...       ...   \n",
       "541904    581587     22613          PACK OF 20 SPACEBOY NAPKINS        12   \n",
       "541905    581587     22899         CHILDREN'S APRON DOLLY GIRL          6   \n",
       "541906    581587     23254        CHILDRENS CUTLERY DOLLY GIRL          4   \n",
       "541907    581587     23255      CHILDRENS CUTLERY CIRCUS PARADE         4   \n",
       "541908    581587     22138        BAKING SET 9 PIECE RETROSPOT          3   \n",
       "\n",
       "               InvoiceDate  UnitPrice  CustomerID         Country  year  \\\n",
       "0      2010-12-01 08:26:00       2.55     17850.0  United Kingdom  2010   \n",
       "1      2010-12-01 08:26:00       3.39     17850.0  United Kingdom  2010   \n",
       "2      2010-12-01 08:26:00       2.75     17850.0  United Kingdom  2010   \n",
       "3      2010-12-01 08:26:00       3.39     17850.0  United Kingdom  2010   \n",
       "4      2010-12-01 08:26:00       3.39     17850.0  United Kingdom  2010   \n",
       "...                    ...        ...         ...             ...   ...   \n",
       "541904 2011-12-09 12:50:00       0.85     12680.0          France  2011   \n",
       "541905 2011-12-09 12:50:00       2.10     12680.0          France  2011   \n",
       "541906 2011-12-09 12:50:00       4.15     12680.0          France  2011   \n",
       "541907 2011-12-09 12:50:00       4.15     12680.0          France  2011   \n",
       "541908 2011-12-09 12:50:00       4.95     12680.0          France  2011   \n",
       "\n",
       "        month  day  hour  minute  day_of_week  \n",
       "0          12    1     8      26            2  \n",
       "1          12    1     8      26            2  \n",
       "2          12    1     8      26            2  \n",
       "3          12    1     8      26            2  \n",
       "4          12    1     8      26            2  \n",
       "...       ...  ...   ...     ...          ...  \n",
       "541904     12    9    12      50            4  \n",
       "541905     12    9    12      50            4  \n",
       "541906     12    9    12      50            4  \n",
       "541907     12    9    12      50            4  \n",
       "541908     12    9    12      50            4  \n",
       "\n",
       "[541909 rows x 14 columns]"
      ]
     },
     "execution_count": 38,
     "metadata": {},
     "output_type": "execute_result"
    }
   ],
   "source": [
    "df"
   ]
  },
  {
   "cell_type": "code",
   "execution_count": 39,
   "id": "cd2630c8",
   "metadata": {},
   "outputs": [
    {
     "name": "stdout",
     "output_type": "stream",
     "text": [
      "Min Date 2010-12-01 08:26:00 Max Date 2011-12-09 12:50:00\n"
     ]
    }
   ],
   "source": [
    "print(\"Min Date\", df[\"InvoiceDate\"].min(), \"Max Date\", df[\"InvoiceDate\"].max())"
   ]
  },
  {
   "cell_type": "code",
   "execution_count": 40,
   "id": "c63b726f",
   "metadata": {},
   "outputs": [
    {
     "data": {
      "text/plain": [
       "Index(['InvoiceNo', 'StockCode', 'Description', 'Quantity', 'InvoiceDate',\n",
       "       'UnitPrice', 'CustomerID', 'Country', 'year', 'month', 'day', 'hour',\n",
       "       'minute', 'day_of_week'],\n",
       "      dtype='object')"
      ]
     },
     "execution_count": 40,
     "metadata": {},
     "output_type": "execute_result"
    }
   ],
   "source": [
    "df.columns"
   ]
  },
  {
   "cell_type": "code",
   "execution_count": 43,
   "id": "cedf008f",
   "metadata": {
    "scrolled": true
   },
   "outputs": [
    {
     "ename": "ValueError",
     "evalue": "Cannot subset columns with a tuple with more than one element. Use a list instead.",
     "output_type": "error",
     "traceback": [
      "\u001b[0;31m---------------------------------------------------------------------------\u001b[0m",
      "\u001b[0;31mValueError\u001b[0m                                Traceback (most recent call last)",
      "Cell \u001b[0;32mIn[43], line 1\u001b[0m\n\u001b[0;32m----> 1\u001b[0m df\u001b[38;5;241m.\u001b[39mgroupby([\u001b[38;5;124m'\u001b[39m\u001b[38;5;124mCustomerID\u001b[39m\u001b[38;5;124m'\u001b[39m,\u001b[38;5;124m'\u001b[39m\u001b[38;5;124mCountry\u001b[39m\u001b[38;5;124m'\u001b[39m])[\u001b[38;5;124m'\u001b[39m\u001b[38;5;124mQuantity\u001b[39m\u001b[38;5;124m'\u001b[39m,\u001b[38;5;124m'\u001b[39m\u001b[38;5;124mTotalPrice\u001b[39m\u001b[38;5;124m'\u001b[39m]\u001b[38;5;241m.\u001b[39msum()\u001b[38;5;241m.\u001b[39msort_values(by\u001b[38;5;241m=\u001b[39m\u001b[38;5;124m'\u001b[39m\u001b[38;5;124mQuantity\u001b[39m\u001b[38;5;124m'\u001b[39m, ascending\u001b[38;5;241m=\u001b[39m\u001b[38;5;28;01mFalse\u001b[39;00m)\n",
      "File \u001b[0;32m~/anaconda3/lib/python3.11/site-packages/pandas/core/groupby/generic.py:1767\u001b[0m, in \u001b[0;36mDataFrameGroupBy.__getitem__\u001b[0;34m(self, key)\u001b[0m\n\u001b[1;32m   1763\u001b[0m \u001b[38;5;66;03m# per GH 23566\u001b[39;00m\n\u001b[1;32m   1764\u001b[0m \u001b[38;5;28;01mif\u001b[39;00m \u001b[38;5;28misinstance\u001b[39m(key, \u001b[38;5;28mtuple\u001b[39m) \u001b[38;5;129;01mand\u001b[39;00m \u001b[38;5;28mlen\u001b[39m(key) \u001b[38;5;241m>\u001b[39m \u001b[38;5;241m1\u001b[39m:\n\u001b[1;32m   1765\u001b[0m     \u001b[38;5;66;03m# if len == 1, then it becomes a SeriesGroupBy and this is actually\u001b[39;00m\n\u001b[1;32m   1766\u001b[0m     \u001b[38;5;66;03m# valid syntax, so don't raise\u001b[39;00m\n\u001b[0;32m-> 1767\u001b[0m     \u001b[38;5;28;01mraise\u001b[39;00m \u001b[38;5;167;01mValueError\u001b[39;00m(\n\u001b[1;32m   1768\u001b[0m         \u001b[38;5;124m\"\u001b[39m\u001b[38;5;124mCannot subset columns with a tuple with more than one element. \u001b[39m\u001b[38;5;124m\"\u001b[39m\n\u001b[1;32m   1769\u001b[0m         \u001b[38;5;124m\"\u001b[39m\u001b[38;5;124mUse a list instead.\u001b[39m\u001b[38;5;124m\"\u001b[39m\n\u001b[1;32m   1770\u001b[0m     )\n\u001b[1;32m   1771\u001b[0m \u001b[38;5;28;01mreturn\u001b[39;00m \u001b[38;5;28msuper\u001b[39m()\u001b[38;5;241m.\u001b[39m\u001b[38;5;21m__getitem__\u001b[39m(key)\n",
      "\u001b[0;31mValueError\u001b[0m: Cannot subset columns with a tuple with more than one element. Use a list instead."
     ]
    }
   ],
   "source": [
    "df.groupby(['CustomerID','Country'])['Quantity','TotalPrice'].sum().sort_values(by='Quantity', ascending=False)"
   ]
  },
  {
   "cell_type": "code",
   "execution_count": null,
   "id": "78bcde3e",
   "metadata": {},
   "outputs": [],
   "source": [
    "import matplotlib.pyplot as plt"
   ]
  },
  {
   "cell_type": "code",
   "execution_count": null,
   "id": "556535b9",
   "metadata": {},
   "outputs": [],
   "source": [
    "grouped_data = df.groupby(['CustomerID', 'Country'])['Quantity', 'TotalPrice'].sum().reset_index()\n",
    "\n",
    "# Sorting by Quantity in descending order\n",
    "sorted_data = grouped_data.sort_values(by='Quantity', ascending=False)\n",
    "\n",
    "# Selecting top 10 combinations of CustomerID and Country by Quantity\n",
    "top_10 = sorted_data.head(10)\n",
    "\n",
    "# Create a list of colors for the bars\n",
    "num_bars = len(top_10)\n",
    "colors = plt.cm.viridis(np.linspace(0, 1, num_bars))\n",
    "\n",
    "# Creating a bar plot for the top 10 combinations\n",
    "plt.figure(figsize=(10, 6))\n",
    "bars = plt.bar(np.arange(num_bars), top_10['Quantity'], color=colors)\n",
    "\n",
    "# Displaying the quantity values on top of the bars\n",
    "for bar, val in zip(bars, top_10['Quantity']):\n",
    "    plt.text(bar.get_x() + bar.get_width() / 2, bar.get_height() + 0.5, val,\n",
    "             ha='center', va='bottom', fontsize=8)\n",
    "\n",
    "plt.xlabel('CustomerID - Country')\n",
    "plt.ylabel('Total Quantity Sold')\n",
    "plt.title('Top 10 CustomerID-Country Combinations by Quantity Sold')\n",
    "plt.xticks(np.arange(num_bars), top_10['CustomerID'].astype(str) + ' - ' + top_10['Country'], rotation=45, ha='right')\n",
    "plt.tight_layout()\n",
    "plt.show()"
   ]
  },
  {
   "cell_type": "code",
   "execution_count": null,
   "id": "c5237626",
   "metadata": {
    "scrolled": true
   },
   "outputs": [],
   "source": [
    "df.Country.value_counts()"
   ]
  },
  {
   "cell_type": "code",
   "execution_count": null,
   "id": "f3a24ce4",
   "metadata": {},
   "outputs": [],
   "source": [
    "import matplotlib.pyplot as plt\n",
    "\n",
    "# Assuming df is your DataFrame\n",
    "country_counts = df['Country'].value_counts()\n",
    "\n",
    "# Plotting the country counts\n",
    "plt.figure(figsize=(10, 6))\n",
    "country_counts.plot(kind='bar')\n",
    "plt.title('Counts of Entries by Country')\n",
    "plt.xlabel('Country')\n",
    "plt.ylabel('Count')\n",
    "plt.xticks(rotation=45)\n",
    "plt.tight_layout()\n",
    "plt.show()\n"
   ]
  },
  {
   "cell_type": "code",
   "execution_count": null,
   "id": "adafd475",
   "metadata": {},
   "outputs": [],
   "source": [
    "import seaborn as sns\n",
    "\n",
    "plt.figure(figsize=(10, 6))\n",
    "sns.countplot(data=df, x='Country', order=df['Country'].value_counts().index)\n",
    "plt.title('Counts of Entries by Country')\n",
    "plt.xlabel('Country')\n",
    "plt.ylabel('Count')\n",
    "plt.xticks(rotation=45)\n",
    "plt.tight_layout()\n",
    "plt.show()\n"
   ]
  },
  {
   "cell_type": "code",
   "execution_count": null,
   "id": "fd1477ea",
   "metadata": {},
   "outputs": [],
   "source": [
    "import matplotlib.pyplot as plt\n",
    "import pandas as pd\n",
    "\n",
    "# Assuming df is your DataFrame\n",
    "top_countries = df['Country'].value_counts().nlargest(10)  # Get top 10 countries\n",
    "\n",
    "# Replace countries not in top 10 with 'Other'\n",
    "df['Country'] = df['Country'].apply(lambda x: x if x in top_countries else 'Other')\n",
    "\n",
    "# Plotting the top countries and 'Other'\n",
    "plt.figure(figsize=(10, 6))\n",
    "df['Country'].value_counts().plot(kind='bar')\n",
    "plt.title('Top Countries (Others grouped)')\n",
    "plt.xlabel('Country')\n",
    "plt.ylabel('Count')\n",
    "plt.xticks(rotation=45)\n",
    "plt.tight_layout()\n",
    "plt.show()\n"
   ]
  },
  {
   "cell_type": "code",
   "execution_count": null,
   "id": "45204752",
   "metadata": {},
   "outputs": [],
   "source": [
    "import seaborn as sns\n",
    "\n",
    "# Assuming df is your DataFrame\n",
    "top_countries = df['Country'].value_counts().nlargest(10)  # Get top 10 countries\n",
    "\n",
    "# Replace countries not in top 10 with 'Other'\n",
    "df['Country'] = df['Country'].apply(lambda x: x if x in top_countries else 'Other')\n",
    "\n",
    "# Plotting the top countries and 'Other' using Seaborn countplot\n",
    "plt.figure(figsize=(10, 6))\n",
    "ax = sns.countplot(data=df, x='Country', order=df['Country'].value_counts().index)\n",
    "plt.title('Top Countries (Others grouped)')\n",
    "plt.xlabel('Country')\n",
    "plt.ylabel('Count')\n",
    "plt.xticks(rotation=45)\n",
    "plt.tight_layout()\n",
    "\n",
    "# Display counts on top of bars\n",
    "for p in ax.patches:\n",
    "    ax.annotate(format(p.get_height(), '.0f'), \n",
    "                (p.get_x() + p.get_width() / 2., p.get_height()), \n",
    "                ha = 'center', va = 'center', \n",
    "                xytext = (0, 10), \n",
    "                textcoords = 'offset points')\n",
    "\n",
    "plt.show()\n"
   ]
  },
  {
   "cell_type": "code",
   "execution_count": null,
   "id": "20b3a785",
   "metadata": {},
   "outputs": [],
   "source": [
    "import matplotlib.pyplot as plt\n",
    "\n",
    "plt.figure(figsize=(8, 8))\n",
    "df['Country'].value_counts().plot(kind='pie', autopct='%1.1f%%')\n",
    "plt.title('Country Distribution')\n",
    "plt.ylabel('')\n",
    "plt.show()\n"
   ]
  },
  {
   "cell_type": "code",
   "execution_count": null,
   "id": "a77a5660",
   "metadata": {},
   "outputs": [],
   "source": [
    "\n",
    "\n",
    "plt.figure(figsize=(10, 6))\n",
    "df.set_index('InvoiceDate').resample('D').size().plot()  # Resample daily and plot\n",
    "plt.title('Timeline of Entries Over Time')\n",
    "plt.xlabel('Date')\n",
    "plt.ylabel('Count')\n",
    "plt.tight_layout()\n",
    "plt.show()\n"
   ]
  },
  {
   "cell_type": "code",
   "execution_count": null,
   "id": "60c66ab2",
   "metadata": {},
   "outputs": [],
   "source": [
    "df.columns"
   ]
  },
  {
   "cell_type": "code",
   "execution_count": null,
   "id": "6c515f60",
   "metadata": {},
   "outputs": [],
   "source": [
    "monthly_quantity = df.groupby(pd.Grouper(key='InvoiceDate', freq='M'))['Quantity'].sum()\n",
    "\n",
    "# Plotting the data\n",
    "plt.figure(figsize=(10, 6))\n",
    "monthly_quantity.plot()\n",
    "\n",
    "# Adding annotations for each month's value\n",
    "for i, value in enumerate(monthly_quantity):\n",
    "    plt.text(monthly_quantity.index[i], value, str(value), ha='center', va='bottom')\n",
    "\n",
    "plt.xlabel('Invoice Date')\n",
    "plt.ylabel('Total Quantity')\n",
    "plt.title('Total Quantity per Month')\n",
    "plt.tight_layout()\n",
    "plt.show()"
   ]
  },
  {
   "cell_type": "code",
   "execution_count": null,
   "id": "41cf51b9",
   "metadata": {},
   "outputs": [],
   "source": [
    "df.columns"
   ]
  },
  {
   "cell_type": "code",
   "execution_count": null,
   "id": "bac31b51",
   "metadata": {},
   "outputs": [],
   "source": [
    "monthly_quantity = df.groupby(pd.Grouper(key='InvoiceDate', freq='M'))['TotalPrice'].sum()\n",
    "\n",
    "# Plotting the data\n",
    "plt.figure(figsize=(10, 6))\n",
    "monthly_quantity.plot()\n",
    "\n",
    "# Adding annotations for each month's value\n",
    "for i, value in enumerate(monthly_quantity):\n",
    "    plt.text(monthly_quantity.index[i], value, str(value), ha='center', va='bottom')\n",
    "\n",
    "plt.xlabel('Invoice Date')\n",
    "plt.ylabel('Total Price')\n",
    "plt.title('Total Price per Month')\n",
    "plt.tight_layout()\n",
    "plt.show()"
   ]
  },
  {
   "cell_type": "code",
   "execution_count": null,
   "id": "a33a8b98",
   "metadata": {
    "scrolled": true
   },
   "outputs": [],
   "source": [
    "date_corr = df[['year', 'month', 'day']].corr()\n",
    "\n",
    "plt.figure(figsize=(8, 6))\n",
    "sns.heatmap(date_corr, annot=True, cmap='coolwarm', fmt='.2f')\n",
    "plt.title('Correlation Between Date Components')\n",
    "plt.show()"
   ]
  },
  {
   "cell_type": "code",
   "execution_count": null,
   "id": "6a9bbec8",
   "metadata": {},
   "outputs": [],
   "source": [
    "df.columns"
   ]
  },
  {
   "cell_type": "code",
   "execution_count": null,
   "id": "c055ce34",
   "metadata": {},
   "outputs": [],
   "source": [
    "plt.figure(figsize=(10, 6))\n",
    "sns.boxplot(data=df, x='month', y='Quantity')\n",
    "plt.title('Distribution by Month')\n",
    "plt.xlabel('Month')\n",
    "plt.ylabel('Value')\n",
    "plt.show()\n"
   ]
  },
  {
   "cell_type": "code",
   "execution_count": null,
   "id": "2e9480a2",
   "metadata": {},
   "outputs": [],
   "source": [
    "df.columns"
   ]
  },
  {
   "cell_type": "code",
   "execution_count": null,
   "id": "aa8e4eac",
   "metadata": {},
   "outputs": [],
   "source": [
    "df['TotalPrice'] = df['Quantity'] * df['UnitPrice']"
   ]
  },
  {
   "cell_type": "code",
   "execution_count": null,
   "id": "cf7c0a52",
   "metadata": {},
   "outputs": [],
   "source": [
    "import datetime as dt"
   ]
  },
  {
   "cell_type": "code",
   "execution_count": null,
   "id": "05f46db0",
   "metadata": {},
   "outputs": [],
   "source": [
    "today_date = dt.datetime(2011,12,31)\n",
    "\n",
    "df_rfm = df.groupby(\"CustomerID\").agg({\"InvoiceDate\" : lambda InvoiceDate: (today_date - InvoiceDate.max()).days, # Recency\n",
    "                                \"InvoiceNo\" : lambda InvoiceNo : InvoiceNo.nunique(), # Frequency\n",
    "                                \"TotalPrice\" : lambda TotalPrice: TotalPrice.sum()})  # Monetary\n",
    "df_rfm.columns = [\"Recency\", \"Frequency\", \"Monetary\"]"
   ]
  },
  {
   "cell_type": "code",
   "execution_count": null,
   "id": "88796f61",
   "metadata": {},
   "outputs": [],
   "source": [
    "df_rfm['recency_score'] = pd.qcut(df_rfm['Recency'], 5, labels=[5, 4, 3, 2, 1])\n",
    "df_rfm['frequency_score'] = pd.qcut(df_rfm['Frequency'].rank(method='first'), 5, labels=[1, 2, 3, 4, 5])\n",
    "df_rfm['monetary_score'] = pd.qcut(df_rfm['Monetary'], 5, labels=[1, 2, 3, 4, 5])\n",
    "\n",
    "df_rfm['RF_SCORE'] = (df_rfm['recency_score'].astype(str) +\n",
    "                      df_rfm['frequency_score'].astype(str))\n",
    "df_rfm.head()"
   ]
  },
  {
   "cell_type": "code",
   "execution_count": null,
   "id": "6837b259",
   "metadata": {},
   "outputs": [],
   "source": [
    "df['RF_score']=df_rfm['RF_SCORE']"
   ]
  },
  {
   "cell_type": "code",
   "execution_count": null,
   "id": "dcffb75e",
   "metadata": {},
   "outputs": [],
   "source": [
    "df['frequency']=df_rfm['Frequency']"
   ]
  },
  {
   "cell_type": "code",
   "execution_count": null,
   "id": "fdee8193",
   "metadata": {},
   "outputs": [],
   "source": [
    "seg_map = {\n",
    "    r'[1-2]{2}': 'hibernating',\n",
    "    r'[1-2][3-4]': 'at_Risk',\n",
    "    r'[1-2]5': 'cant_loose',\n",
    "    r'3[1-2]': 'about_to_sleep',\n",
    "    r'33': 'need_attention',\n",
    "    r'[3-4][4-5]': 'loyal_customers',\n",
    "    r'41': 'promising',\n",
    "    r'51': 'new_customers',\n",
    "    r'[4-5][2-3]': 'potential_loyalists',\n",
    "    r'5[4-5]': 'champions'\n",
    "}"
   ]
  },
  {
   "cell_type": "code",
   "execution_count": null,
   "id": "328f402c",
   "metadata": {
    "scrolled": true
   },
   "outputs": [],
   "source": [
    "df_rfm['segment'] = df_rfm['RF_SCORE'].replace(seg_map, regex=True)"
   ]
  },
  {
   "cell_type": "code",
   "execution_count": null,
   "id": "a5f6d4b1",
   "metadata": {},
   "outputs": [],
   "source": [
    "df[df['CustomerID']==12346.0]"
   ]
  },
  {
   "cell_type": "code",
   "execution_count": null,
   "id": "e0c608d0",
   "metadata": {},
   "outputs": [],
   "source": [
    "df_rfm['segment'].value_counts()\n"
   ]
  },
  {
   "cell_type": "code",
   "execution_count": null,
   "id": "aad6531d",
   "metadata": {},
   "outputs": [],
   "source": [
    "import seaborn as sns"
   ]
  },
  {
   "cell_type": "code",
   "execution_count": null,
   "id": "8dae5d43",
   "metadata": {
    "scrolled": true
   },
   "outputs": [],
   "source": [
    "for i in sns.color_palette('tab10', len(df_rfm['segment'].value_counts())):\n",
    "    print(i)"
   ]
  },
  {
   "cell_type": "code",
   "execution_count": null,
   "id": "64f635b7",
   "metadata": {
    "scrolled": false
   },
   "outputs": [],
   "source": [
    "df_rfm.head()"
   ]
  },
  {
   "cell_type": "code",
   "execution_count": null,
   "id": "f0a1bad4",
   "metadata": {},
   "outputs": [],
   "source": [
    "segment_counts = df_rfm['segment'].value_counts()\n",
    "\n",
    "# Define colors for segments\n",
    "colors = {\n",
    "    'hibernating': 'red', 'loyal_customers': 'green', 'champions': 'blue',\n",
    "    'at_Risk': 'orange', 'potential_loyalists': 'purple',\n",
    "    'about_to_sleep': 'cyan', 'need_attention': 'magenta',\n",
    "    'promising': 'yellow', 'cant_loose': 'brown', 'new_customers': 'gray'\n",
    "}\n",
    "\n",
    "# Plotting the bar plot\n",
    "plt.figure(figsize=(8, 6))\n",
    "segment_counts.plot(kind='bar', color=[colors.get(x, 'black') for x in segment_counts.index])\n",
    "\n",
    "plt.xlabel('Segments')\n",
    "plt.ylabel('Count')\n",
    "plt.title('Count of Customers in Each Segment')\n",
    "plt.xticks(rotation=45)\n",
    "plt.show()"
   ]
  },
  {
   "cell_type": "code",
   "execution_count": null,
   "id": "12ab98f1",
   "metadata": {},
   "outputs": [],
   "source": [
    "stats = df_rfm['segment']\n",
    "fig = px.bar(y=stats.values, \n",
    "             x=stats.index,  \n",
    "             text_auto=True,\n",
    "             color = stats.index,\n",
    "             title= 'RFM',\n",
    "            template= 'ggplot2' )\n",
    "\n",
    "fig.show()"
   ]
  },
  {
   "cell_type": "code",
   "execution_count": null,
   "id": "191a510d",
   "metadata": {},
   "outputs": [],
   "source": [
    "from sklearn.preprocessing import OrdinalEncoder\n",
    "\n",
    "# Assuming df is your DataFrame with a 'Country' column\n",
    "encoder = OrdinalEncoder()\n",
    "\n",
    "# Reshape the column because the OrdinalEncoder expects a 2D array\n",
    "encoded_country = encoder.fit_transform(df['Country'].values.reshape(-1, 1))\n",
    "\n",
    "# Replace the original 'Country' column with the encoded values\n",
    "df['Country_Encoded'] = encoded_country"
   ]
  },
  {
   "cell_type": "code",
   "execution_count": null,
   "id": "ffa5cb54",
   "metadata": {},
   "outputs": [],
   "source": [
    "df.columns"
   ]
  },
  {
   "cell_type": "code",
   "execution_count": null,
   "id": "9a20ccc2",
   "metadata": {},
   "outputs": [],
   "source": [
    "df.columns"
   ]
  },
  {
   "cell_type": "code",
   "execution_count": null,
   "id": "f4df55db",
   "metadata": {},
   "outputs": [],
   "source": [
    "features=['Quantity','UnitPrice','year','month','day','hour','minute','day_of_week','Country_Encoded','RF_score','RF_score']"
   ]
  },
  {
   "cell_type": "code",
   "execution_count": null,
   "id": "84527408",
   "metadata": {},
   "outputs": [],
   "source": [
    "df[features]"
   ]
  },
  {
   "cell_type": "code",
   "execution_count": null,
   "id": "f6eed83e",
   "metadata": {},
   "outputs": [],
   "source": [
    "from sklearn.cluster import KMeans\n",
    "from sklearn.cluster import DBSCAN"
   ]
  },
  {
   "cell_type": "code",
   "execution_count": null,
   "id": "f5608d8c",
   "metadata": {},
   "outputs": [],
   "source": [
    "X.d"
   ]
  },
  {
   "cell_type": "code",
   "execution_count": null,
   "id": "ffa44a5c",
   "metadata": {},
   "outputs": [],
   "source": [
    "X = df[features]\n",
    "X.dropna(inplace=True)\n",
    "# Initialize and fit K-means\n",
    "kmeans = KMeans(n_clusters=4, random_state=42)  # Specify the number of clusters\n",
    "kmeans.fit(X)\n",
    "\n",
    "# Add predicted clusters to DataFrame\n",
    "X['KMeans_Cluster'] = kmeans.labels_"
   ]
  },
  {
   "cell_type": "code",
   "execution_count": null,
   "id": "025472c3",
   "metadata": {
    "scrolled": true
   },
   "outputs": [],
   "source": [
    "X['KMeans_Cluster'].value_counts()"
   ]
  },
  {
   "cell_type": "code",
   "execution_count": null,
   "id": "acad0074",
   "metadata": {},
   "outputs": [],
   "source": [
    "from sklearn.preprocessing import StandardScaler"
   ]
  },
  {
   "cell_type": "code",
   "execution_count": null,
   "id": "97af4a88",
   "metadata": {},
   "outputs": [],
   "source": [
    "numeric_columns = X.columns.tolist()\n",
    "\n",
    "scaler = StandardScaler()\n",
    "X[numeric_columns] = scaler.fit_transform(X[numeric_columns])"
   ]
  },
  {
   "cell_type": "code",
   "execution_count": null,
   "id": "6ec97f44",
   "metadata": {},
   "outputs": [],
   "source": [
    "kmeans = KMeans(n_clusters=3, random_state=42)  # Specify the number of clusters\n",
    "kmeans.fit(X)\n",
    "\n",
    "# Add predicted clusters to DataFrame\n",
    "X['KMeans_Cluster'] = kmeans.labels_"
   ]
  },
  {
   "cell_type": "code",
   "execution_count": null,
   "id": "c2491c1b",
   "metadata": {},
   "outputs": [],
   "source": [
    "X.KMeans_Cluster.value_counts()"
   ]
  },
  {
   "cell_type": "code",
   "execution_count": null,
   "id": "8bbdb60a",
   "metadata": {},
   "outputs": [],
   "source": [
    "from sklearn.datasets import make_blobs\n",
    "from sklearn.cluster import KMeans\n",
    "from sklearn.metrics import silhouette_score\n",
    "from sklearn.decomposition import PCA\n",
    "from mpl_toolkits.mplot3d import Axes3D\n",
    "SSE = []\n",
    "for cluster in range(1,10):\n",
    "    kmeans = KMeans(n_clusters = cluster, init='k-means++',n_init=\"auto\")\n",
    "    kmeans.fit(X)\n",
    "    SSE.append(kmeans.inertia_)\n",
    "# converting the results into a dataframe and plotting them\n",
    "frame = pd.DataFrame({'Cluster':range(1,10), 'SSE':SSE})\n",
    "plt.figure(figsize=(12,6))\n",
    "plt.plot(frame['Cluster'], frame['SSE'], marker='o')\n",
    "plt.xlabel('Number of clusters')\n",
    "plt.ylabel('Inertia')"
   ]
  },
  {
   "cell_type": "code",
   "execution_count": null,
   "id": "4338b4b4",
   "metadata": {},
   "outputs": [],
   "source": [
    "kmeans = KMeans( n_clusters = 3, init='k-means++',n_init=\"auto\")\n",
    "kmeans.fit(X)"
   ]
  },
  {
   "cell_type": "code",
   "execution_count": null,
   "id": "193bd3a4",
   "metadata": {
    "scrolled": true
   },
   "outputs": [],
   "source": [
    "print(silhouette_score(X, kmeans.labels_, metric='euclidean'))"
   ]
  },
  {
   "cell_type": "code",
   "execution_count": null,
   "id": "f2654cb0",
   "metadata": {},
   "outputs": [],
   "source": [
    "pred = kmeans.predict(X)\n",
    "rfm_cluster = X.copy()\n",
    "rfm_cluster['cluster'] = pred"
   ]
  },
  {
   "cell_type": "code",
   "execution_count": null,
   "id": "573ba695",
   "metadata": {},
   "outputs": [],
   "source": [
    "rfm_cluster"
   ]
  },
  {
   "cell_type": "code",
   "execution_count": null,
   "id": "c642121b",
   "metadata": {},
   "outputs": [],
   "source": [
    "X.KMeans_Cluster.value_counts()"
   ]
  },
  {
   "cell_type": "code",
   "execution_count": null,
   "id": "0650d582",
   "metadata": {},
   "outputs": [],
   "source": [
    "X.head()"
   ]
  },
  {
   "cell_type": "code",
   "execution_count": null,
   "id": "eada8017",
   "metadata": {},
   "outputs": [],
   "source": [
    "columns_to_denormalize = X.columns[:-1]"
   ]
  },
  {
   "cell_type": "code",
   "execution_count": null,
   "id": "71eda622",
   "metadata": {},
   "outputs": [],
   "source": [
    "means = X[columns_to_denormalize].mean()"
   ]
  },
  {
   "cell_type": "code",
   "execution_count": null,
   "id": "0b1f2e16",
   "metadata": {},
   "outputs": [],
   "source": [
    "std_devs = X[columns_to_denormalize].std()"
   ]
  },
  {
   "cell_type": "code",
   "execution_count": null,
   "id": "8398da26",
   "metadata": {},
   "outputs": [],
   "source": [
    "means"
   ]
  },
  {
   "cell_type": "code",
   "execution_count": null,
   "id": "aa365123",
   "metadata": {},
   "outputs": [],
   "source": [
    "X.drop(columns=['RF_score'],inplace=True)"
   ]
  },
  {
   "cell_type": "code",
   "execution_count": null,
   "id": "9461fb22",
   "metadata": {},
   "outputs": [],
   "source": [
    "# Columns to be denormalized\n",
    "columns_to_denormalize = X.columns[:-1]  # Excluding the last column assuming it's 'KMeans_Cluster'\n",
    "\n",
    "# Mean and standard deviation of each column\n",
    "means = X[columns_to_denormalize].mean()\n",
    "std_devs = X[columns_to_denormalize].std()\n",
    "\n",
    "# Inverse the normalization\n",
    "X[columns_to_denormalize] = X[columns_to_denormalize] * std_devs + means\n"
   ]
  },
  {
   "cell_type": "code",
   "execution_count": null,
   "id": "bbabebde",
   "metadata": {
    "scrolled": true
   },
   "outputs": [],
   "source": [
    "columns_to_denormalize = X.columns[:-1]  # Excluding the last column assuming it's 'KMeans_Cluster'\n",
    "\n",
    "# Create a new DataFrame with the denormalized values\n",
    "df_denormalized = pd.DataFrame()\n",
    "\n",
    "# Denormalize each column and add to the new DataFrame\n",
    "for col in columns_to_denormalize:\n",
    "    df_denormalized[col] = X[col] * std_devs[col] + means[col]\n",
    "\n",
    "# Add the 'KMeans_Cluster' column to the new DataFrame\n",
    "df_denormalized['KMeans_Cluster'] = X['KMeans_Cluster']\n",
    "\n",
    "# Display the new denormalized DataFrame\n",
    "print(df_denormalized)"
   ]
  },
  {
   "cell_type": "code",
   "execution_count": null,
   "id": "15df4c23",
   "metadata": {},
   "outputs": [],
   "source": [
    "df_denormalized\n"
   ]
  },
  {
   "cell_type": "code",
   "execution_count": null,
   "id": "c9873891",
   "metadata": {},
   "outputs": [],
   "source": []
  },
  {
   "cell_type": "code",
   "execution_count": null,
   "id": "cc599d5a",
   "metadata": {
    "scrolled": true
   },
   "outputs": [],
   "source": [
    "sns.scatterplot(data=X, x=\"Country_Encoded\", y=\"month\",hue='KMeans_Cluster')"
   ]
  },
  {
   "cell_type": "code",
   "execution_count": null,
   "id": "472a89de",
   "metadata": {},
   "outputs": [],
   "source": [
    "X = df[features]\n",
    "\n",
    "# Initialize and fit DBSCAN\n",
    "dbscan = DBSCAN(eps=0.5, min_samples=10)  # Set the parameters as per your data\n",
    "dbscan.fit(X)\n",
    "\n",
    "# Add predicted clusters to DataFrame\n",
    "df['DBSCAN_Cluster'] = dbscan.labels_"
   ]
  },
  {
   "cell_type": "code",
   "execution_count": null,
   "id": "e3a75865",
   "metadata": {
    "scrolled": true
   },
   "outputs": [],
   "source": [
    "print('l')"
   ]
  },
  {
   "cell_type": "code",
   "execution_count": null,
   "id": "2405e7d9",
   "metadata": {},
   "outputs": [],
   "source": [
    "import seaborn as sns\n",
    "\n",
    "# Assuming df is your DataFrame with the mentioned features and KMeans_Cluster column\n",
    "features = ['day_of_week', 'Country_Encoded']\n",
    "\n",
    "# Select features for clustering\n",
    "X = df[features]\n",
    "\n",
    "# Initialize and fit K-means\n",
    "kmeans = KMeans(n_clusters=3, random_state=42)  # Specify the number of clusters\n",
    "kmeans.fit(X)\n",
    "\n",
    "# Add predicted clusters to DataFrame\n",
    "df['KMeans_Cluster'] = kmeans.labels_\n",
    "\n",
    "# Create pair plot to visualize clusters\n",
    "sns.pairplot(df, vars=features, hue='KMeans_Cluster', palette='viridis')\n",
    "plt.show()\n"
   ]
  },
  {
   "cell_type": "code",
   "execution_count": null,
   "id": "20714887",
   "metadata": {},
   "outputs": [],
   "source": [
    "import seaborn as sns\n",
    "\n",
    "# Assuming df is your DataFrame with the mentioned features and KMeans_Cluster column\n",
    "features = ['day_of_week', 'Country_Encoded']\n",
    "\n",
    "# Select features for clustering\n",
    "X = df[features]\n",
    "\n",
    "# Initialize and fit K-means\n",
    "kmeans = KMeans(n_clusters=3, random_state=42)  # Specify the number of clusters\n",
    "kmeans.fit(X)\n",
    "\n",
    "# Add predicted clusters to DataFrame\n",
    "df['KMeans_Cluster'] = kmeans.labels_\n",
    "\n",
    "# Create pair plot to visualize clusters\n",
    "sns.pairplot(df, vars=features, hue='KMeans_Cluster', palette='viridis')\n",
    "plt.show()"
   ]
  },
  {
   "cell_type": "code",
   "execution_count": null,
   "id": "b7c6f67f",
   "metadata": {},
   "outputs": [],
   "source": [
    "X.columns"
   ]
  },
  {
   "cell_type": "code",
   "execution_count": null,
   "id": "571a990e",
   "metadata": {},
   "outputs": [],
   "source": [
    "list1 = ['day_of_week', 'Country_Encoded']"
   ]
  },
  {
   "cell_type": "code",
   "execution_count": null,
   "id": "cbbfba69",
   "metadata": {},
   "outputs": [],
   "source": [
    "avg_df = df.groupby(['KMeans_Cluster'], as_index=False).mean()\n",
    "for i in list1:\n",
    "    sns.barplot(x='KMeans_Cluster',y=str(i),data=avg_df)\n",
    "    plt.show()"
   ]
  },
  {
   "cell_type": "code",
   "execution_count": null,
   "id": "028a09af",
   "metadata": {
    "scrolled": false
   },
   "outputs": [],
   "source": [
    "df.Country_Encoded.value_counts()"
   ]
  },
  {
   "cell_type": "code",
   "execution_count": null,
   "id": "61478e66",
   "metadata": {},
   "outputs": [],
   "source": [
    "df.Country.value_counts()"
   ]
  },
  {
   "cell_type": "code",
   "execution_count": null,
   "id": "0c1c015c",
   "metadata": {},
   "outputs": [],
   "source": [
    "plt.figure(figsize=(8, 6))\n",
    "sns.scatterplot(x='day_of_week', y='Country', hue='KMeans_Cluster', data=df, palette='viridis')\n",
    "plt.title('Clusters based on day_of_week and Country_Encoded')\n",
    "plt.xlabel('day_of_week')\n",
    "plt.ylabel('Country_Encoded')\n",
    "plt.show()\n"
   ]
  },
  {
   "cell_type": "code",
   "execution_count": null,
   "id": "074fc048",
   "metadata": {},
   "outputs": [],
   "source": [
    "df[features]"
   ]
  },
  {
   "cell_type": "code",
   "execution_count": null,
   "id": "41e7ded9",
   "metadata": {},
   "outputs": [],
   "source": [
    "features=['Country_Encoded','day_of_week']"
   ]
  },
  {
   "cell_type": "code",
   "execution_count": null,
   "id": "64710bd7",
   "metadata": {},
   "outputs": [],
   "source": [
    "df.columns"
   ]
  },
  {
   "cell_type": "code",
   "execution_count": null,
   "id": "2d6d9a5e",
   "metadata": {
    "scrolled": true
   },
   "outputs": [],
   "source": [
    "X = df[['Country_Encoded','day_of_week']] # Exclude the last column assumed to be the cluster label\n"
   ]
  },
  {
   "cell_type": "code",
   "execution_count": null,
   "id": "1f7fc077",
   "metadata": {},
   "outputs": [],
   "source": [
    "X"
   ]
  },
  {
   "cell_type": "code",
   "execution_count": null,
   "id": "5d988184",
   "metadata": {},
   "outputs": [],
   "source": [
    "model = AgglomerativeClustering(n_clusters=3, affinity='euclidean', linkage='ward')\n",
    "cluster_labels = model.fit_predict(X)\n",
    "\n",
    "# Adding the cluster labels to the DataFrame\n",
    "X['Hierarchical_Cluster'] = cluster_labels\n",
    "\n",
    "# Plot dendrogram\n",
    "# Create a linkage matrix and plot dendrogram\n",
    "from scipy.cluster import hierarchy\n",
    "\n",
    "linkage_matrix = hierarchy.linkage(features, method='ward')\n",
    "plt.figure(figsize=(12, 6))\n",
    "dendrogram(linkage_matrix)\n",
    "plt.title('Dendrogram')\n",
    "plt.xlabel('Samples')\n",
    "plt.ylabel('Distance')\n",
    "plt.show()\n",
    "\n",
    "# Display the DataFrame with the hierarchical cluster labels\n",
    "print(df)"
   ]
  },
  {
   "cell_type": "code",
   "execution_count": null,
   "id": "9a642c78",
   "metadata": {},
   "outputs": [],
   "source": [
    "from sklearn.cluster import AgglomerativeClustering\n",
    "from scipy.cluster.hierarchy import dendrogram\n",
    "import matplotlib.pyplot as plt\n",
    "import pandas as pd\n",
    "\n",
    "# Assuming df contains the data for clustering\n",
    "# Extracting the features for clustering\n",
    "\n",
    "# Perform hierarchical clustering\n",
    "model = AgglomerativeClustering(n_clusters=3, affinity='euclidean', linkage='ward')\n",
    "cluster_labels = model.fit_predict(features)\n",
    "\n",
    "# Adding the cluster labels to the DataFrame\n",
    "df['Hierarchical_Cluster'] = cluster_labels\n",
    "\n",
    "# Plot dendrogram\n",
    "# Create a linkage matrix and plot dendrogram\n",
    "from scipy.cluster import hierarchy\n",
    "\n",
    "linkage_matrix = hierarchy.linkage(features, method='ward')\n",
    "plt.figure(figsize=(12, 6))\n",
    "dendrogram(linkage_matrix)\n",
    "plt.title('Dendrogram')\n",
    "plt.xlabel('Samples')\n",
    "plt.ylabel('Distance')\n",
    "plt.show()\n",
    "\n",
    "# Display the DataFrame with the hierarchical cluster labels\n",
    "print(df)\n"
   ]
  },
  {
   "cell_type": "code",
   "execution_count": null,
   "id": "6cc9c5df",
   "metadata": {},
   "outputs": [],
   "source": []
  }
 ],
 "metadata": {
  "kernelspec": {
   "display_name": "Python 3 (ipykernel)",
   "language": "python",
   "name": "python3"
  },
  "language_info": {
   "codemirror_mode": {
    "name": "ipython",
    "version": 3
   },
   "file_extension": ".py",
   "mimetype": "text/x-python",
   "name": "python",
   "nbconvert_exporter": "python",
   "pygments_lexer": "ipython3",
   "version": "3.11.5"
  }
 },
 "nbformat": 4,
 "nbformat_minor": 5
}
